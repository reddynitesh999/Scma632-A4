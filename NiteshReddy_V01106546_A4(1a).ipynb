{
 "cells": [
  {
   "cell_type": "code",
   "execution_count": 53,
   "id": "a6bbcf6d",
   "metadata": {
    "scrolled": true
   },
   "outputs": [
    {
     "name": "stdout",
     "output_type": "stream",
     "text": [
      "Requirement already satisfied: factor_analyzer in d:\\christ\\python\\lib\\site-packages (0.5.1)\n",
      "Requirement already satisfied: pandas in d:\\christ\\python\\lib\\site-packages (from factor_analyzer) (2.0.3)\n",
      "Requirement already satisfied: scipy in d:\\christ\\python\\lib\\site-packages (from factor_analyzer) (1.11.1)\n",
      "Requirement already satisfied: numpy in d:\\christ\\python\\lib\\site-packages (from factor_analyzer) (1.24.3)\n",
      "Requirement already satisfied: scikit-learn in d:\\christ\\python\\lib\\site-packages (from factor_analyzer) (1.3.0)\n",
      "Requirement already satisfied: python-dateutil>=2.8.2 in d:\\christ\\python\\lib\\site-packages (from pandas->factor_analyzer) (2.8.2)\n",
      "Requirement already satisfied: pytz>=2020.1 in d:\\christ\\python\\lib\\site-packages (from pandas->factor_analyzer) (2023.3.post1)\n",
      "Requirement already satisfied: tzdata>=2022.1 in d:\\christ\\python\\lib\\site-packages (from pandas->factor_analyzer) (2023.3)\n",
      "Requirement already satisfied: joblib>=1.1.1 in d:\\christ\\python\\lib\\site-packages (from scikit-learn->factor_analyzer) (1.2.0)\n",
      "Requirement already satisfied: threadpoolctl>=2.0.0 in d:\\christ\\python\\lib\\site-packages (from scikit-learn->factor_analyzer) (2.2.0)\n",
      "Requirement already satisfied: six>=1.5 in d:\\christ\\python\\lib\\site-packages (from python-dateutil>=2.8.2->pandas->factor_analyzer) (1.16.0)\n"
     ]
    }
   ],
   "source": [
    "!pip install factor_analyzer"
   ]
  },
  {
   "cell_type": "code",
   "execution_count": 43,
   "id": "43a046d6",
   "metadata": {},
   "outputs": [],
   "source": [
    "import pandas as pd\n",
    "import numpy as np\n",
    "import factor_analyzer as fa\n",
    "import matplotlib.pyplot as plt\n",
    "from scipy.io import loadmat"
   ]
  },
  {
   "cell_type": "code",
   "execution_count": 44,
   "id": "285d97a4",
   "metadata": {},
   "outputs": [],
   "source": [
    "import importlib\n",
    "import pip\n",
    "\n",
    "def install_and_load(packages):\n",
    "    for package in packages:\n",
    "        try:\n",
    "            module = importlib.import_module(package)\n",
    "        except ImportError:\n",
    "            pip.main(['install', package])\n",
    "            module = importlib.import_module(package)"
   ]
  },
  {
   "cell_type": "code",
   "execution_count": 45,
   "id": "6b009c03",
   "metadata": {},
   "outputs": [],
   "source": [
    "# List of packages to install and load\n",
    "packages = [\"pandas\", \"numpy\", \"factor_analyzer\", \"matplotlib\", \"scipy\"]"
   ]
  },
  {
   "cell_type": "code",
   "execution_count": 46,
   "id": "1b9e8386",
   "metadata": {},
   "outputs": [],
   "source": [
    "# Call the function\n",
    "install_and_load(packages)"
   ]
  },
  {
   "cell_type": "code",
   "execution_count": 47,
   "id": "4d95551e",
   "metadata": {},
   "outputs": [],
   "source": [
    "# List of packages to install and load\n",
    "packages = [\"pandas\", \"numpy\", \"factor_analyzer\", \"matplotlib\", \"scipy\"]"
   ]
  },
  {
   "cell_type": "code",
   "execution_count": 48,
   "id": "578bd7cf",
   "metadata": {},
   "outputs": [],
   "source": [
    "# Call the function\n",
    "install_and_load(packages)"
   ]
  },
  {
   "cell_type": "code",
   "execution_count": 49,
   "id": "f9e245e8",
   "metadata": {},
   "outputs": [],
   "source": [
    "# Read the data\n",
    "survey_df = pd.read_csv('D:\\\\CHRIST\\\\Boot camp\\\\DATA\\\\Survey.csv')\n",
    "sur_int = survey_df.iloc[:, 19:45]  # Adjust the column range accordingly"
   ]
  },
  {
   "cell_type": "code",
   "execution_count": 50,
   "id": "c53dfc9d",
   "metadata": {},
   "outputs": [
    {
     "data": {
      "text/html": [
       "<style>#sk-container-id-2 {color: black;}#sk-container-id-2 pre{padding: 0;}#sk-container-id-2 div.sk-toggleable {background-color: white;}#sk-container-id-2 label.sk-toggleable__label {cursor: pointer;display: block;width: 100%;margin-bottom: 0;padding: 0.3em;box-sizing: border-box;text-align: center;}#sk-container-id-2 label.sk-toggleable__label-arrow:before {content: \"▸\";float: left;margin-right: 0.25em;color: #696969;}#sk-container-id-2 label.sk-toggleable__label-arrow:hover:before {color: black;}#sk-container-id-2 div.sk-estimator:hover label.sk-toggleable__label-arrow:before {color: black;}#sk-container-id-2 div.sk-toggleable__content {max-height: 0;max-width: 0;overflow: hidden;text-align: left;background-color: #f0f8ff;}#sk-container-id-2 div.sk-toggleable__content pre {margin: 0.2em;color: black;border-radius: 0.25em;background-color: #f0f8ff;}#sk-container-id-2 input.sk-toggleable__control:checked~div.sk-toggleable__content {max-height: 200px;max-width: 100%;overflow: auto;}#sk-container-id-2 input.sk-toggleable__control:checked~label.sk-toggleable__label-arrow:before {content: \"▾\";}#sk-container-id-2 div.sk-estimator input.sk-toggleable__control:checked~label.sk-toggleable__label {background-color: #d4ebff;}#sk-container-id-2 div.sk-label input.sk-toggleable__control:checked~label.sk-toggleable__label {background-color: #d4ebff;}#sk-container-id-2 input.sk-hidden--visually {border: 0;clip: rect(1px 1px 1px 1px);clip: rect(1px, 1px, 1px, 1px);height: 1px;margin: -1px;overflow: hidden;padding: 0;position: absolute;width: 1px;}#sk-container-id-2 div.sk-estimator {font-family: monospace;background-color: #f0f8ff;border: 1px dotted black;border-radius: 0.25em;box-sizing: border-box;margin-bottom: 0.5em;}#sk-container-id-2 div.sk-estimator:hover {background-color: #d4ebff;}#sk-container-id-2 div.sk-parallel-item::after {content: \"\";width: 100%;border-bottom: 1px solid gray;flex-grow: 1;}#sk-container-id-2 div.sk-label:hover label.sk-toggleable__label {background-color: #d4ebff;}#sk-container-id-2 div.sk-serial::before {content: \"\";position: absolute;border-left: 1px solid gray;box-sizing: border-box;top: 0;bottom: 0;left: 50%;z-index: 0;}#sk-container-id-2 div.sk-serial {display: flex;flex-direction: column;align-items: center;background-color: white;padding-right: 0.2em;padding-left: 0.2em;position: relative;}#sk-container-id-2 div.sk-item {position: relative;z-index: 1;}#sk-container-id-2 div.sk-parallel {display: flex;align-items: stretch;justify-content: center;background-color: white;position: relative;}#sk-container-id-2 div.sk-item::before, #sk-container-id-2 div.sk-parallel-item::before {content: \"\";position: absolute;border-left: 1px solid gray;box-sizing: border-box;top: 0;bottom: 0;left: 50%;z-index: -1;}#sk-container-id-2 div.sk-parallel-item {display: flex;flex-direction: column;z-index: 1;position: relative;background-color: white;}#sk-container-id-2 div.sk-parallel-item:first-child::after {align-self: flex-end;width: 50%;}#sk-container-id-2 div.sk-parallel-item:last-child::after {align-self: flex-start;width: 50%;}#sk-container-id-2 div.sk-parallel-item:only-child::after {width: 0;}#sk-container-id-2 div.sk-dashed-wrapped {border: 1px dashed gray;margin: 0 0.4em 0.5em 0.4em;box-sizing: border-box;padding-bottom: 0.4em;background-color: white;}#sk-container-id-2 div.sk-label label {font-family: monospace;font-weight: bold;display: inline-block;line-height: 1.2em;}#sk-container-id-2 div.sk-label-container {text-align: center;}#sk-container-id-2 div.sk-container {/* jupyter's `normalize.less` sets `[hidden] { display: none; }` but bootstrap.min.css set `[hidden] { display: none !important; }` so we also need the `!important` here to be able to override the default hidden behavior on the sphinx rendered scikit-learn.org. See: https://github.com/scikit-learn/scikit-learn/issues/21755 */display: inline-block !important;position: relative;}#sk-container-id-2 div.sk-text-repr-fallback {display: none;}</style><div id=\"sk-container-id-2\" class=\"sk-top-container\"><div class=\"sk-text-repr-fallback\"><pre>FactorAnalyzer(n_factors=4, rotation=&#x27;varimax&#x27;, rotation_kwargs={})</pre><b>In a Jupyter environment, please rerun this cell to show the HTML representation or trust the notebook. <br />On GitHub, the HTML representation is unable to render, please try loading this page with nbviewer.org.</b></div><div class=\"sk-container\" hidden><div class=\"sk-item\"><div class=\"sk-estimator sk-toggleable\"><input class=\"sk-toggleable__control sk-hidden--visually\" id=\"sk-estimator-id-2\" type=\"checkbox\" checked><label for=\"sk-estimator-id-2\" class=\"sk-toggleable__label sk-toggleable__label-arrow\">FactorAnalyzer</label><div class=\"sk-toggleable__content\"><pre>FactorAnalyzer(n_factors=4, rotation=&#x27;varimax&#x27;, rotation_kwargs={})</pre></div></div></div></div></div>"
      ],
      "text/plain": [
       "FactorAnalyzer(n_factors=4, rotation='varimax', rotation_kwargs={})"
      ]
     },
     "execution_count": 50,
     "metadata": {},
     "output_type": "execute_result"
    }
   ],
   "source": [
    "# Factor Analysis\n",
    "fa = fa.FactorAnalyzer(n_factors=4, rotation=\"varimax\")\n",
    "fa.fit(sur_int.to_numpy())"
   ]
  },
  {
   "cell_type": "code",
   "execution_count": 54,
   "id": "442777dc",
   "metadata": {},
   "outputs": [
    {
     "name": "stdout",
     "output_type": "stream",
     "text": [
      "[[-0.15781009  0.42809134  0.05879243 -0.13526352]\n",
      " [ 0.07288457  0.07797564 -0.09376015  0.72270594]\n",
      " [ 0.67791474 -0.10906029  0.25599157  0.12315536]\n",
      " [ 0.45294307  0.19306866 -0.14202126  0.09102672]\n",
      " [ 0.56145098  0.05977592 -0.15846106  0.10167805]\n",
      " [ 0.44508348 -0.0324726  -0.02008422  0.46566121]\n",
      " [ 0.40127304  0.65592565 -0.04681206  0.06621177]\n",
      " [ 0.54536401  0.17133537 -0.06944276 -0.1745679 ]\n",
      " [ 0.77346812 -0.23204538  0.31139215 -0.08601212]\n",
      " [ 0.13600482  0.10476011 -0.07605281 -0.1851078 ]\n",
      " [ 0.74442306  0.0982716  -0.06279514  0.13271725]\n",
      " [ 0.61456757  0.12385518 -0.10379084  0.25558762]\n",
      " [ 0.831264    0.04360933 -0.01602555 -0.06757234]\n",
      " [ 0.18089295  0.5781131  -0.06496421  0.09677394]\n",
      " [ 0.08522971 -0.12722077  0.5149248  -0.0147638 ]\n",
      " [-0.12867754  0.18571432  0.51035205 -0.01479766]\n",
      " [-0.09884299 -0.09829734  0.31043878 -0.06327067]\n",
      " [-0.12075303 -0.08561139  0.88293084  0.28205672]\n",
      " [ 0.41597756  0.48625238 -0.13041834 -0.03370875]\n",
      " [ 0.3030142   0.14591216  0.26405999 -0.08696872]\n",
      " [ 0.64708197  0.39365565 -0.18483817 -0.14750424]\n",
      " [ 0.70663536 -0.07753737  0.08586913 -0.32104338]\n",
      " [ 0.09492154  0.01416831  0.36329693 -0.04207299]\n",
      " [ 0.75374487  0.34338309  0.05243772  0.07115759]\n",
      " [ 0.74497866  0.39843936  0.02755836  0.05399374]\n",
      " [ 0.75557128  0.39188083  0.02353685  0.15929651]]\n"
     ]
    }
   ],
   "source": [
    "# Print factor loadings\n",
    "loadings = fa.loadings_\n",
    "print(loadings)\n"
   ]
  },
  {
   "cell_type": "code",
   "execution_count": 55,
   "id": "51a8c7f8",
   "metadata": {},
   "outputs": [
    {
     "data": {
      "image/png": "[encoded data removed]",
      "text/plain": [
       "<Figure size 1000x800 with 2 Axes>"
      ]
     },
     "metadata": {},
     "output_type": "display_data"
    }
   ],
   "source": [
    "# Create a heatmap of the loadings matrix\n",
    "plt.figure(figsize=(10, 8))\n",
    "plt.imshow(loadings, cmap='hot', interpolation='nearest')\n",
    "plt.colorbar()\n",
    "plt.show()"
   ]
  },
  {
   "cell_type": "code",
   "execution_count": 60,
   "id": "746f58d6",
   "metadata": {},
   "outputs": [
    {
     "name": "stdout",
     "output_type": "stream",
     "text": [
      "Communalities:\n",
      "[0.22991899 0.54248721 0.55216147 0.27088883 0.35424869 0.41639751\n",
      " 0.59783387 0.36207396 0.75646115 0.06952092 0.5853801  0.46913098\n",
      " 0.69772445 0.38052256 0.28881475 0.3117259  0.11980772 0.88103346\n",
      " 0.42762393 0.1903992  0.62960249 0.61578794 0.14296564 0.6938564\n",
      " 0.71742191 0.75038791]\n"
     ]
    }
   ],
   "source": [
    "# Print communalities\n",
    "print(\"Communalities:\")\n",
    "print(fa.get_communalities())"
   ]
  },
  {
   "cell_type": "code",
   "execution_count": 61,
   "id": "0e06d3e2",
   "metadata": {},
   "outputs": [
    {
     "name": "stdout",
     "output_type": "stream",
     "text": [
      "Factor Scores:\n",
      "[[-6.28619743e-01  1.85657494e+00 -5.47519178e-01 -8.81439669e-01]\n",
      " [-1.69513914e+00  1.12800561e+00 -5.80307050e-01 -9.38083207e-01]\n",
      " [-1.20280931e+00  5.89699103e-01 -1.39117035e+00 -2.86780837e+00]\n",
      " [ 1.99352990e+00  4.88864495e-02 -2.07936514e+00  2.18544871e-01]\n",
      " [ 4.11314878e-01 -1.26821776e+00 -7.80870767e-01  6.66228671e-02]\n",
      " [-2.11478560e-01  2.03794816e-01 -6.50677463e-01  2.05174946e-01]\n",
      " [ 7.43577413e-01  6.43368392e-01  1.00212144e-01  1.03878997e+00]\n",
      " [-1.91404810e+00  3.03937289e-01 -1.32917310e+00 -2.15077532e-01]\n",
      " [-8.56474198e-01 -2.96858773e-03  2.93861146e-01  9.20159872e-02]\n",
      " [ 2.36520458e-01  5.51241056e-02  3.48090670e-02 -6.03796924e-01]\n",
      " [-4.68064081e-01 -8.66072292e-01 -7.46975265e-02 -6.21582489e-01]\n",
      " [-8.75004407e-01 -1.08807300e+00 -1.13530109e+00  6.56135510e-01]\n",
      " [-1.19487644e+00  8.94305070e-02  4.89637706e-01  9.91715591e-01]\n",
      " [-3.01457336e-01  1.00436570e-01  1.20733916e+00  1.97792324e-01]\n",
      " [-1.00291293e+00  4.94104285e-01 -1.24637702e-01 -2.07152409e-01]\n",
      " [-2.44664326e+00 -1.14035022e-01  1.61004829e-01  5.75188733e-01]\n",
      " [-1.25577846e+00 -3.56172547e-01 -7.15364485e-01  1.04921625e+00]\n",
      " [-1.17254635e+00  1.21161268e+00 -1.83678942e-01  8.19594214e-01]\n",
      " [ 4.04252036e-01  1.29219401e+00 -1.50176103e+00  1.71572855e-01]\n",
      " [ 4.91676501e-01  1.92667044e-01 -2.44581210e+00 -4.37601486e-01]\n",
      " [-1.17254635e+00  1.21161268e+00 -1.83678942e-01  8.19594214e-01]\n",
      " [-1.18430113e-01  6.13931005e-01  1.08967528e+00  1.32810436e+00]\n",
      " [-9.89414929e-01  1.50327651e+00 -2.60459187e-01  9.36551773e-01]\n",
      " [ 5.45913862e-01 -6.12972222e-01  1.19522542e+00  4.73974759e-01]\n",
      " [ 1.60656285e+00  8.48989955e-01  2.09647043e-01  3.46249330e-01]\n",
      " [-4.01168383e-01 -2.52486384e-01 -1.57889392e-01  1.35125021e+00]\n",
      " [-5.70149338e-01 -1.01616206e+00  1.02586710e+00  8.78902429e-01]\n",
      " [ 5.57012596e-02 -5.78556540e-02  5.09137586e-03  6.76539136e-01]\n",
      " [-1.07970184e+00  5.37184202e-01 -4.86901676e-01  1.41408056e+00]\n",
      " [ 8.96814338e-01 -6.47961098e-01 -7.65034396e-01 -7.04074626e-01]\n",
      " [ 8.69607701e-01  5.95486198e-01 -6.38034715e-01  3.78813780e-01]\n",
      " [-6.37345825e-01 -1.10103294e+00  1.22809820e-01 -4.53821368e-02]\n",
      " [-5.84225979e-01  4.19191582e-02  1.27085126e+00 -1.66638848e-01]\n",
      " [ 8.44456916e-01  4.74671338e-01  6.06587744e-01 -4.49510340e-01]\n",
      " [-1.53043482e+00  3.06961797e-01  5.04757719e-01 -2.77263230e-01]\n",
      " [ 2.52217422e-01  8.37519715e-01 -6.55798084e-01 -1.08047700e+00]\n",
      " [-2.65256836e-01 -3.93585990e-01  1.00265475e+00  6.73951617e-01]\n",
      " [ 8.75266361e-01 -1.57998563e+00  1.05827836e-01 -5.01791914e-01]\n",
      " [-5.83336049e-02 -1.24268812e-01  3.12217836e-01  6.25041344e-01]\n",
      " [-1.50415166e-01 -5.71515007e-01  4.42151168e-01 -1.13739766e+00]\n",
      " [-4.15457002e-01 -1.06805866e+00 -3.79121037e-01  4.16298983e-01]\n",
      " [ 5.67742135e-01  8.66194617e-01  1.18757213e+00 -1.73348437e+00]\n",
      " [ 1.48058278e+00  5.83409123e-02 -1.51677332e+00  6.14654585e-01]\n",
      " [ 8.84020437e-04  4.06199309e-01  1.29140547e+00 -5.16368191e-01]\n",
      " [-2.56762812e-01 -1.15793950e+00  1.58791083e+00 -1.52548112e+00]\n",
      " [ 1.44816075e+00  4.44470328e-01  7.83829956e-01 -6.65724886e-01]\n",
      " [ 8.48846223e-02 -2.16546175e+00 -1.80248526e-01  4.93744250e-01]\n",
      " [ 5.33469552e-01 -1.26207193e+00  7.49243048e-02 -7.46248246e-01]\n",
      " [ 2.00085397e+00  1.00510014e+00  1.59107977e+00  1.15336865e+00]\n",
      " [-1.42738759e+00 -2.49549276e+00 -1.05660563e+00 -4.33123005e-01]\n",
      " [-8.65061774e-01  1.96153108e-01 -7.08579570e-01 -1.83360924e+00]\n",
      " [ 1.70501397e+00  4.92152231e-01 -3.76624052e-01  4.57062101e-01]\n",
      " [ 3.96019577e-01  1.81555993e-01  1.77931133e+00  2.73626585e-01]\n",
      " [ 1.46786634e+00  1.05831828e+00 -2.58997433e-01  4.92588720e-01]\n",
      " [ 6.65334799e-01  2.27176811e-01  6.06908953e-01  8.51815039e-01]\n",
      " [ 2.74710656e-01 -1.41357731e+00  6.77218647e-02 -7.67941001e-02]\n",
      " [-1.97347958e-01  1.12002694e-01  1.05482646e+00  2.70223607e-01]\n",
      " [ 1.99352990e+00  4.88864495e-02 -2.07936514e+00  2.18544871e-01]\n",
      " [ 1.12932110e+00  9.58404407e-01  1.68152565e+00  5.00130434e-01]\n",
      " [ 1.93912354e-01 -5.05362246e-03  1.28422043e+00 -5.57090529e-02]\n",
      " [ 4.81064721e-01  1.00562158e+00 -5.75465382e-01 -1.29708769e+00]\n",
      " [ 8.71967700e-01 -8.31499518e-01 -3.84023259e-01 -4.96746391e-01]\n",
      " [ 8.93449712e-01 -1.27081949e+00  3.39359988e-01 -6.69371782e-01]\n",
      " [ 2.08727188e-01  3.38523707e-01 -2.09368060e+00 -3.60126571e-01]\n",
      " [-7.24940260e-01  6.18001945e-01  1.56431531e-01  7.05743950e-01]\n",
      " [-4.73622370e-01 -3.85109317e-01  2.20529709e+00 -4.48477907e-01]\n",
      " [ 6.28468721e-01 -1.07895387e+00  7.57875216e-01 -1.42062850e+00]\n",
      " [-4.15457002e-01 -1.06805866e+00 -3.79121037e-01  4.16298983e-01]\n",
      " [-1.69905899e-01 -4.61872565e-01 -4.66795240e-01  1.50323517e+00]\n",
      " [ 4.75841673e-01  1.51884310e+00  5.13103154e-01 -9.38694670e-01]]\n"
     ]
    }
   ],
   "source": [
    "# Print factor scores\n",
    "print(\"Factor Scores:\")\n",
    "print(fa.transform(sur_int.to_numpy()))"
   ]
  }
 ],
 "metadata": {
  "kernelspec": {
   "display_name": "Python 3 (ipykernel)",
   "language": "python",
   "name": "python3"
  },
  "language_info": {
   "codemirror_mode": {
    "name": "ipython",
    "version": 3
   },
   "file_extension": ".py",
   "mimetype": "text/x-python",
   "name": "python",
   "nbconvert_exporter": "python",
   "pygments_lexer": "ipython3",
   "version": "3.11.7"
  }
 },
 "nbformat": 4,
 "nbformat_minor": 5
}
